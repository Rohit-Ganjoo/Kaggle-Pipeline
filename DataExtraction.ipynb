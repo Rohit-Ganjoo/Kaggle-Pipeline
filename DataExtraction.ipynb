{
 "cells": [
  {
   "cell_type": "code",
   "execution_count": 1,
   "metadata": {},
   "outputs": [],
   "source": [
    "import zipfile as zf\n",
    "import sqlalchemy as sq\n",
    "import kaggle as k\n",
    "import pandas as pd "
   ]
  },
  {
   "cell_type": "code",
   "execution_count": 2,
   "metadata": {},
   "outputs": [
    {
     "name": "stdout",
     "output_type": "stream",
     "text": [
      "Dataset URL: https://www.kaggle.com/datasets/gabrielsantello/wholesale-and-retail-orders-dataset\n",
      "License(s): other\n",
      "Downloading orders.csv.zip to c:\\Users\\zeus\\Desktop\\Git Repositories\\Kaggle-Pipeline\n",
      "\n"
     ]
    },
    {
     "name": "stderr",
     "output_type": "stream",
     "text": [
      "\n",
      "  0%|          | 0.00/3.02M [00:00<?, ?B/s]\n",
      " 33%|███▎      | 1.00M/3.02M [00:01<00:03, 692kB/s]\n",
      " 66%|██████▌   | 2.00M/3.02M [00:01<00:00, 1.31MB/s]\n",
      " 99%|█████████▉| 3.00M/3.02M [00:02<00:00, 1.93MB/s]\n",
      "100%|██████████| 3.02M/3.02M [00:02<00:00, 1.54MB/s]\n"
     ]
    }
   ],
   "source": [
    "# Extracting out the orders dataset from the kaggle using kaggle API\n",
    "!kaggle datasets download gabrielsantello/wholesale-and-retail-orders-dataset -f orders.csv\n"
   ]
  },
  {
   "cell_type": "code",
   "execution_count": 3,
   "metadata": {},
   "outputs": [
    {
     "name": "stdout",
     "output_type": "stream",
     "text": [
      "Dataset URL: https://www.kaggle.com/datasets/gabrielsantello/wholesale-and-retail-orders-dataset"
     ]
    },
    {
     "name": "stderr",
     "output_type": "stream",
     "text": [
      "\n",
      "  0%|          | 0.00/559k [00:00<?, ?B/s]\n",
      "100%|██████████| 559k/559k [00:01<00:00, 326kB/s]\n",
      "100%|██████████| 559k/559k [00:01<00:00, 326kB/s]\n"
     ]
    },
    {
     "name": "stdout",
     "output_type": "stream",
     "text": [
      "\n",
      "License(s): other\n",
      "Downloading product-supplier.csv to c:\\Users\\zeus\\Desktop\\Git Repositories\\Kaggle-Pipeline\n",
      "\n"
     ]
    }
   ],
   "source": [
    "# Extracting out the product-supplier dataset from kaggle\n",
    "!kaggle datasets download gabrielsantello/wholesale-and-retail-orders-dataset -f product-supplier.csv"
   ]
  },
  {
   "cell_type": "code",
   "execution_count": 4,
   "metadata": {},
   "outputs": [],
   "source": [
    "# Unzip the orders.csv.zip file to get the order.csv\n",
    "zip_loc = zf.ZipFile('orders.csv.zip')\n",
    "zip_loc.extractall() \n",
    "zip_loc.close()"
   ]
  },
  {
   "cell_type": "code",
   "execution_count": 5,
   "metadata": {},
   "outputs": [],
   "source": [
    "orders = pd.read_csv('C:/Users/zeus/Desktop/Git Repositories/Kaggle-Pipeline/orders.csv')\n",
    "product = pd.read_csv('C:/Users/zeus/Desktop/Git Repositories/Kaggle-Pipeline/product-supplier.csv')"
   ]
  },
  {
   "cell_type": "code",
   "execution_count": 6,
   "metadata": {},
   "outputs": [
    {
     "data": {
      "text/html": [
       "<div>\n",
       "<style scoped>\n",
       "    .dataframe tbody tr th:only-of-type {\n",
       "        vertical-align: middle;\n",
       "    }\n",
       "\n",
       "    .dataframe tbody tr th {\n",
       "        vertical-align: top;\n",
       "    }\n",
       "\n",
       "    .dataframe thead th {\n",
       "        text-align: right;\n",
       "    }\n",
       "</style>\n",
       "<table border=\"1\" class=\"dataframe\">\n",
       "  <thead>\n",
       "    <tr style=\"text-align: right;\">\n",
       "      <th></th>\n",
       "      <th>Customer ID</th>\n",
       "      <th>Customer Status</th>\n",
       "      <th>Date Order was placed</th>\n",
       "      <th>Delivery Date</th>\n",
       "      <th>Order ID</th>\n",
       "      <th>Product ID</th>\n",
       "      <th>Quantity Ordered</th>\n",
       "      <th>Total Retail Price for This Order</th>\n",
       "      <th>Cost Price Per Unit</th>\n",
       "    </tr>\n",
       "  </thead>\n",
       "  <tbody>\n",
       "    <tr>\n",
       "      <th>0</th>\n",
       "      <td>579</td>\n",
       "      <td>Silver</td>\n",
       "      <td>01-Jan-17</td>\n",
       "      <td>07-Jan-17</td>\n",
       "      <td>123002578</td>\n",
       "      <td>220101400106</td>\n",
       "      <td>2</td>\n",
       "      <td>92.6</td>\n",
       "      <td>20.70</td>\n",
       "    </tr>\n",
       "    <tr>\n",
       "      <th>1</th>\n",
       "      <td>7574</td>\n",
       "      <td>SILVER</td>\n",
       "      <td>01-Jan-17</td>\n",
       "      <td>05-Jan-17</td>\n",
       "      <td>123004074</td>\n",
       "      <td>210201000009</td>\n",
       "      <td>1</td>\n",
       "      <td>21.7</td>\n",
       "      <td>9.95</td>\n",
       "    </tr>\n",
       "    <tr>\n",
       "      <th>2</th>\n",
       "      <td>28861</td>\n",
       "      <td>Gold</td>\n",
       "      <td>01-Jan-17</td>\n",
       "      <td>04-Jan-17</td>\n",
       "      <td>123000871</td>\n",
       "      <td>230100500068</td>\n",
       "      <td>1</td>\n",
       "      <td>1.7</td>\n",
       "      <td>0.80</td>\n",
       "    </tr>\n",
       "    <tr>\n",
       "      <th>3</th>\n",
       "      <td>43796</td>\n",
       "      <td>Gold</td>\n",
       "      <td>01-Jan-17</td>\n",
       "      <td>06-Jan-17</td>\n",
       "      <td>123002851</td>\n",
       "      <td>220100100633</td>\n",
       "      <td>1</td>\n",
       "      <td>47.9</td>\n",
       "      <td>24.05</td>\n",
       "    </tr>\n",
       "    <tr>\n",
       "      <th>4</th>\n",
       "      <td>54673</td>\n",
       "      <td>Gold</td>\n",
       "      <td>01-Jan-17</td>\n",
       "      <td>04-Jan-17</td>\n",
       "      <td>123003607</td>\n",
       "      <td>220200200043</td>\n",
       "      <td>1</td>\n",
       "      <td>36.9</td>\n",
       "      <td>18.30</td>\n",
       "    </tr>\n",
       "  </tbody>\n",
       "</table>\n",
       "</div>"
      ],
      "text/plain": [
       "   Customer ID Customer Status Date Order was placed Delivery Date   Order ID  \\\n",
       "0          579          Silver             01-Jan-17     07-Jan-17  123002578   \n",
       "1         7574          SILVER             01-Jan-17     05-Jan-17  123004074   \n",
       "2        28861            Gold             01-Jan-17     04-Jan-17  123000871   \n",
       "3        43796            Gold             01-Jan-17     06-Jan-17  123002851   \n",
       "4        54673            Gold             01-Jan-17     04-Jan-17  123003607   \n",
       "\n",
       "     Product ID  Quantity Ordered  Total Retail Price for This Order  \\\n",
       "0  220101400106                 2                               92.6   \n",
       "1  210201000009                 1                               21.7   \n",
       "2  230100500068                 1                                1.7   \n",
       "3  220100100633                 1                               47.9   \n",
       "4  220200200043                 1                               36.9   \n",
       "\n",
       "   Cost Price Per Unit  \n",
       "0                20.70  \n",
       "1                 9.95  \n",
       "2                 0.80  \n",
       "3                24.05  \n",
       "4                18.30  "
      ]
     },
     "execution_count": 6,
     "metadata": {},
     "output_type": "execute_result"
    }
   ],
   "source": [
    "orders.head()"
   ]
  },
  {
   "cell_type": "code",
   "execution_count": 7,
   "metadata": {},
   "outputs": [
    {
     "data": {
      "text/html": [
       "<div>\n",
       "<style scoped>\n",
       "    .dataframe tbody tr th:only-of-type {\n",
       "        vertical-align: middle;\n",
       "    }\n",
       "\n",
       "    .dataframe tbody tr th {\n",
       "        vertical-align: top;\n",
       "    }\n",
       "\n",
       "    .dataframe thead th {\n",
       "        text-align: right;\n",
       "    }\n",
       "</style>\n",
       "<table border=\"1\" class=\"dataframe\">\n",
       "  <thead>\n",
       "    <tr style=\"text-align: right;\">\n",
       "      <th></th>\n",
       "      <th>Product ID</th>\n",
       "      <th>Product Line</th>\n",
       "      <th>Product Category</th>\n",
       "      <th>Product Group</th>\n",
       "      <th>Product Name</th>\n",
       "      <th>Supplier Country</th>\n",
       "      <th>Supplier Name</th>\n",
       "      <th>Supplier ID</th>\n",
       "    </tr>\n",
       "  </thead>\n",
       "  <tbody>\n",
       "    <tr>\n",
       "      <th>0</th>\n",
       "      <td>210100100001</td>\n",
       "      <td>Children</td>\n",
       "      <td>Children Outdoors</td>\n",
       "      <td>Outdoor things, Kids</td>\n",
       "      <td>Boy's and Girl's Ski Pants with Braces</td>\n",
       "      <td>NO</td>\n",
       "      <td>Scandinavian Clothing A/S</td>\n",
       "      <td>50</td>\n",
       "    </tr>\n",
       "    <tr>\n",
       "      <th>1</th>\n",
       "      <td>210100100002</td>\n",
       "      <td>Children</td>\n",
       "      <td>Children Outdoors</td>\n",
       "      <td>Outdoor things, Kids</td>\n",
       "      <td>Children's Jacket</td>\n",
       "      <td>ES</td>\n",
       "      <td>Luna sastreria S.A.</td>\n",
       "      <td>4742</td>\n",
       "    </tr>\n",
       "    <tr>\n",
       "      <th>2</th>\n",
       "      <td>210100100003</td>\n",
       "      <td>Children</td>\n",
       "      <td>Children Outdoors</td>\n",
       "      <td>Outdoor things, Kids</td>\n",
       "      <td>Children's Jacket Sidney</td>\n",
       "      <td>NO</td>\n",
       "      <td>Scandinavian Clothing A/S</td>\n",
       "      <td>50</td>\n",
       "    </tr>\n",
       "    <tr>\n",
       "      <th>3</th>\n",
       "      <td>210100100004</td>\n",
       "      <td>Children</td>\n",
       "      <td>Children Outdoors</td>\n",
       "      <td>Outdoor things, Kids</td>\n",
       "      <td>Children's Rain Set</td>\n",
       "      <td>NO</td>\n",
       "      <td>Scandinavian Clothing A/S</td>\n",
       "      <td>50</td>\n",
       "    </tr>\n",
       "    <tr>\n",
       "      <th>4</th>\n",
       "      <td>210100100005</td>\n",
       "      <td>Children</td>\n",
       "      <td>Children Outdoors</td>\n",
       "      <td>Outdoor things, Kids</td>\n",
       "      <td>Children's Rain Suit</td>\n",
       "      <td>NO</td>\n",
       "      <td>Scandinavian Clothing A/S</td>\n",
       "      <td>50</td>\n",
       "    </tr>\n",
       "  </tbody>\n",
       "</table>\n",
       "</div>"
      ],
      "text/plain": [
       "     Product ID Product Line   Product Category         Product Group  \\\n",
       "0  210100100001     Children  Children Outdoors  Outdoor things, Kids   \n",
       "1  210100100002     Children  Children Outdoors  Outdoor things, Kids   \n",
       "2  210100100003     Children  Children Outdoors  Outdoor things, Kids   \n",
       "3  210100100004     Children  Children Outdoors  Outdoor things, Kids   \n",
       "4  210100100005     Children  Children Outdoors  Outdoor things, Kids   \n",
       "\n",
       "                             Product Name Supplier Country  \\\n",
       "0  Boy's and Girl's Ski Pants with Braces               NO   \n",
       "1                       Children's Jacket               ES   \n",
       "2                Children's Jacket Sidney               NO   \n",
       "3                     Children's Rain Set               NO   \n",
       "4                    Children's Rain Suit               NO   \n",
       "\n",
       "               Supplier Name  Supplier ID  \n",
       "0  Scandinavian Clothing A/S           50  \n",
       "1        Luna sastreria S.A.         4742  \n",
       "2  Scandinavian Clothing A/S           50  \n",
       "3  Scandinavian Clothing A/S           50  \n",
       "4  Scandinavian Clothing A/S           50  "
      ]
     },
     "execution_count": 7,
     "metadata": {},
     "output_type": "execute_result"
    }
   ],
   "source": [
    "product.head()"
   ]
  },
  {
   "cell_type": "code",
   "execution_count": null,
   "metadata": {},
   "outputs": [],
   "source": []
  }
 ],
 "metadata": {
  "kernelspec": {
   "display_name": "Python 3",
   "language": "python",
   "name": "python3"
  },
  "language_info": {
   "codemirror_mode": {
    "name": "ipython",
    "version": 3
   },
   "file_extension": ".py",
   "mimetype": "text/x-python",
   "name": "python",
   "nbconvert_exporter": "python",
   "pygments_lexer": "ipython3",
   "version": "3.11.5"
  }
 },
 "nbformat": 4,
 "nbformat_minor": 2
}
